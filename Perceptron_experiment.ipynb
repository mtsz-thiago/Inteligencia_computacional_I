{
 "cells": [
  {
   "cell_type": "code",
   "execution_count": 187,
   "metadata": {},
   "outputs": [],
   "source": [
    "import numpy as np\n",
    "import pandas as pd\n",
    "import matplotlib.pyplot as plt"
   ]
  },
  {
   "cell_type": "markdown",
   "metadata": {},
   "source": [
    "# Lista 01\n",
    "\n",
    "Lista de exercício do professor Yasser, Learning from Data"
   ]
  },
  {
   "cell_type": "code",
   "execution_count": 176,
   "metadata": {},
   "outputs": [],
   "source": [
    "def generateData( targetModel, trainnSz, testSz):\n",
    "     \"\"\"função que cria o dataset do problema a partir de um modelo. No esquema de aprendizado, esse modelo é desconhecido\n",
    "    following properties:\n",
    "\n",
    "    Attributes:\n",
    "        targetModel: O mapeamento \"desconhecido\" que se deseja aprender\n",
    "        trainnSz: tamanho do conjunto de treinamento\n",
    "        trainnSz: tamanho do conjunto de treinamento\n",
    "    \"\"\"\n",
    "    data = {}\n",
    "    X_train = np.random.uniform(-1,1,(trainnSz, len(targetModel._w) - 1))\n",
    "    X_test = np.random.uniform(-1,1,(testSz, len(targetModel._w) - 1))\n",
    "    Y_train = targetModel.predict(X_train)\n",
    "    Y_test = targetModel.predict(X_train)\n",
    "    return (X_train, Y_train, X_test, Y_test)"
   ]
  },
  {
   "cell_type": "code",
   "execution_count": 177,
   "metadata": {},
   "outputs": [],
   "source": [
    "class PerceptronModel:\n",
    "    \n",
    "    def __init__(self, dim):\n",
    "        self._dim = dim\n",
    "        self._w = .01*np.ones((dim + 1,1))\n",
    "        \n",
    "    def predict(self, x):\n",
    "        \n",
    "        dim = x.shape[1]\n",
    "        numSamples = x.shape[0]\n",
    "        \n",
    "        assert self._dim == dim, \"dimension do not match\"\n",
    "        \n",
    "        x = x.reshape(-1,dim)\n",
    "        ones = np.ones((numSamples,1))\n",
    "        \n",
    "        X = np.concatenate(( ones,x), axis=1)\n",
    "        \n",
    "        return np.sign(np.matmul(X, self._w))"
   ]
  },
  {
   "cell_type": "code",
   "execution_count": 233,
   "metadata": {},
   "outputs": [],
   "source": [
    "class PerceptronLearningAlgorithm:\n",
    "    \n",
    "    def __init__(self, epochs):\n",
    "        self._epochs = epochs\n",
    "        self._info = {\"epochs\": epochs, \"w\":[], \"loss\": [], \"converged\": -1}\n",
    "    \n",
    "    def update(self, x, y):\n",
    "        y_hat =  self._model.predict(x)\n",
    "        if y_hat != y:\n",
    "            w0 = self._model._w\n",
    "            dim = len(w0) - 1\n",
    "            x = x.reshape(1, dim)\n",
    "            ones = np.ones((1,1))\n",
    "            \n",
    "            x_extend = np.concatenate(( ones,x), axis=1)\n",
    "            self._model._w = w0 + y*x_extend.reshape(w0.shape)\n",
    "            return 1\n",
    "        return 0\n",
    "    \n",
    "    def updateInfo(self, k, missClissified):\n",
    "        self._info[\"w\"].insert(k, self._model._w)\n",
    "        self._info[\"loss\"].insert(k, missClissified)\n",
    "        if (k > 0):\n",
    "            loss0 = self._info[\"loss\"][k-1]\n",
    "            if missClissified != loss0:\n",
    "                self._info[\"converged\"] = -1\n",
    "            else:\n",
    "                if loss0 == -1:\n",
    "                    self._info[\"converged\"] = k\n",
    "                    \n",
    "    \n",
    "    def train(self, X_train, Y_train):\n",
    "        dim = X_train.shape[1]\n",
    "        numSamples = X_train.shape[0]\n",
    "        \n",
    "        self._model = PerceptronModel(dim)\n",
    "        for k in range(0, self._epochs):\n",
    "            missClissified = 0\n",
    "            for i in range(0, numSamples):\n",
    "                x = X_train[i,:].reshape(1,dim)\n",
    "                y = Y_train[i,:].reshape(1,1)\n",
    "                missClissified = missClissified + self.update(x,y)\n",
    "            self.updateInfo(k, missClissified)\n",
    "        \n",
    "        return self._model, self._info"
   ]
  },
  {
   "cell_type": "code",
   "execution_count": 234,
   "metadata": {},
   "outputs": [],
   "source": [
    "myFun = PerceptronModel(2)\n",
    "myFun._w = np.array([.1,-.2, .1]).reshape(3,1)"
   ]
  },
  {
   "cell_type": "code",
   "execution_count": 235,
   "metadata": {},
   "outputs": [],
   "source": [
    "X_train, Y_train, X_test, Y_test = generateData( myFun, 10000, 5)"
   ]
  },
  {
   "cell_type": "code",
   "execution_count": 236,
   "metadata": {},
   "outputs": [
    {
     "data": {
      "text/plain": [
       "0.513"
      ]
     },
     "execution_count": 236,
     "metadata": {},
     "output_type": "execute_result"
    }
   ],
   "source": [
    "np.average(Y_train)"
   ]
  },
  {
   "cell_type": "code",
   "execution_count": 237,
   "metadata": {},
   "outputs": [
    {
     "data": {
      "text/plain": [
       "array([[ 0.57946766,  0.30230678],\n",
       "       [ 0.02785048,  0.37454162],\n",
       "       [ 0.65162322, -0.43173373],\n",
       "       ...,\n",
       "       [ 0.14124637, -0.64721665],\n",
       "       [-0.6561222 , -0.11044888],\n",
       "       [ 0.20330189,  0.18804926]])"
      ]
     },
     "execution_count": 237,
     "metadata": {},
     "output_type": "execute_result"
    }
   ],
   "source": [
    "X_train"
   ]
  },
  {
   "cell_type": "code",
   "execution_count": 238,
   "metadata": {},
   "outputs": [
    {
     "data": {
      "text/plain": [
       "(10000, 2)"
      ]
     },
     "execution_count": 238,
     "metadata": {},
     "output_type": "execute_result"
    }
   ],
   "source": [
    "X_train.shape"
   ]
  },
  {
   "cell_type": "code",
   "execution_count": 252,
   "metadata": {},
   "outputs": [],
   "source": [
    "pla = PerceptronLearningAlgorithm(epochs=500)"
   ]
  },
  {
   "cell_type": "code",
   "execution_count": 253,
   "metadata": {},
   "outputs": [],
   "source": [
    "model, info = pla.train(X_train,Y_train)"
   ]
  },
  {
   "cell_type": "markdown",
   "metadata": {},
   "source": [
    "## resultados do treinamento"
   ]
  },
  {
   "cell_type": "markdown",
   "metadata": {},
   "source": [
    "### Convergência da função de loss"
   ]
  },
  {
   "cell_type": "markdown",
   "metadata": {},
   "source": [
    "A função de loss que o perceptron realmente tenta minimizar é o número de exemplos mal classificados."
   ]
  },
  {
   "cell_type": "code",
   "execution_count": 257,
   "metadata": {},
   "outputs": [
    {
     "data": {
      "image/png": "[encoded data removed]",
      "text/plain": [
       "<Figure size 432x288 with 1 Axes>"
      ]
     },
     "metadata": {
      "needs_background": "light"
     },
     "output_type": "display_data"
    }
   ],
   "source": [
    "loss = info[\"loss\"]\n",
    "epochs = info[\"epochs\"]\n",
    "plt.figure()\n",
    "plt.scatter(x=range(0,epochs),y=loss)\n",
    "plt.title('loss x epochs')\n",
    "plt.xlabel('epoch')\n",
    "plt.ylabel('loss = #(miss classified)')\n",
    "plt.grid()\n",
    "plt.show()"
   ]
  },
  {
   "cell_type": "code",
   "execution_count": 256,
   "metadata": {},
   "outputs": [
    {
     "name": "stdout",
     "output_type": "stream",
     "text": [
      "A convergência aconteceu na epoca 499\n"
     ]
    }
   ],
   "source": [
    "print(\"A convergência aconteceu na epoca %i\" % info[\"converged\"])"
   ]
  },
  {
   "cell_type": "markdown",
   "metadata": {},
   "source": [
    "### Convergência dos parâmetros"
   ]
  },
  {
   "cell_type": "code",
   "execution_count": 283,
   "metadata": {},
   "outputs": [],
   "source": [
    "w0 = [ x[0,0] for x in W_hist]\n",
    "w1 = [ x[1,0] for x in W_hist]\n",
    "w2 = [ x[2,0] for x in W_hist]"
   ]
  },
  {
   "cell_type": "code",
   "execution_count": 287,
   "metadata": {},
   "outputs": [
    {
     "data": {
      "image/png": "[encoded data removed]",
      "text/plain": [
       "<Figure size 432x288 with 3 Axes>"
      ]
     },
     "metadata": {
      "needs_background": "light"
     },
     "output_type": "display_data"
    }
   ],
   "source": [
    "plt.figure()\n",
    "\n",
    "W_hist = info[\"w\"]\n",
    "\n",
    "plt.subplot(3,1,1)\n",
    "plt.scatter(x=range(0,epochs),y=w0)\n",
    "plt.title('W_0')\n",
    "plt.xlabel('epoch')\n",
    "plt.ylabel('W')\n",
    "plt.grid()\n",
    "\n",
    "plt.subplot(3,1,2)\n",
    "plt.scatter(x=range(0,epochs),y=w1)\n",
    "plt.title('W_1')\n",
    "plt.xlabel('epoch')\n",
    "plt.ylabel('W')\n",
    "plt.grid()\n",
    "\n",
    "plt.subplot(3,1,3)\n",
    "plt.scatter(x=range(0,epochs),y=w2)\n",
    "plt.title('W_2')\n",
    "plt.xlabel('epoch')\n",
    "plt.ylabel('W')\n",
    "plt.grid()\n",
    "\n",
    "plt.show()"
   ]
  },
  {
   "cell_type": "markdown",
   "metadata": {},
   "source": [
    "Percebe-se que os parâmetros não convergem para os valores exatos. Pois como f é linear, basta que a a diração coinscida com o vetor original. O vetro de parâmetros normalizado, devria convergir para o vertor de parâmetros ideal também noramlizado"
   ]
  },
  {
   "cell_type": "code",
   "execution_count": 300,
   "metadata": {},
   "outputs": [
    {
     "name": "stdout",
     "output_type": "stream",
     "text": [
      "vetor w aprendido pelo Algoritmo PLA [[ 0.4081881  -0.81644141  0.40841878]]\n",
      "vetor w da funçaõ alvo (normalizado)  [[ 0.40824829 -0.81649658  0.40824829]]\n"
     ]
    }
   ],
   "source": [
    "print(\"vetor w aprendido pelo Algoritmo PLA\", model._w.T/np.linalg.norm(model._w))\n",
    "print(\"vetor w da funçaõ alvo (normalizado) \", myFun._w.T/np.linalg.norm(myFun._w))"
   ]
  },
  {
   "cell_type": "markdown",
   "metadata": {},
   "source": []
  }
 ],
 "metadata": {
  "kernelspec": {
   "display_name": "Python 3",
   "language": "python",
   "name": "python3"
  },
  "language_info": {
   "codemirror_mode": {
    "name": "ipython",
    "version": 3
   },
   "file_extension": ".py",
   "mimetype": "text/x-python",
   "name": "python",
   "nbconvert_exporter": "python",
   "pygments_lexer": "ipython3",
   "version": "3.7.1"
  }
 },
 "nbformat": 4,
 "nbformat_minor": 2
}
